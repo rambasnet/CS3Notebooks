{
 "cells": [
  {
   "cell_type": "markdown",
   "metadata": {},
   "source": [
    "# CS3: Intro to Algorithms & Applications using C++\n",
    "\n",
    "## Table of Contents\n",
    "\n",
    "1. **[CS2 Review](https://github.com/rambasnet/cs2notebooks)** <br>\n",
    "2. **[Kattis Demos & Automated Testing](https://github.com/rambasnet/kattisdemos)** <br>\n",
    "3. **[STL Containers & Algorithms Libraries](https://github.com/rambasnet/stl-notebooks)** <br>\n",
    "4. **[CS3 Introduction](#intro)**<br>\n",
    "5. **[Mathematical Background](./MathematicalBackground.ipynb)** <br>\n",
    "6. **[Algorithm Analysis](./AlgorithmAnalysis.ipynb)**<br>\n",
    "7. **[Search Algorithms](./SearchAlgorithms.ipynb)** <br>\n",
    "8. **[Sorting Algorithms](./Sorting.ipynb)**<br>\n",
    "9. **[Binary Trees](./BinaryTrees.ipynb)**<br>\n",
    "10. **[Heaps and Priority Queues](./Heaps-PriorityQueues.ipynb)**<br>\n",
    "11. **[Graphs Introduction](./GraphsIntro.ipynb)**<br>\n",
    "12. **[Graphs Implementations & Traversals](./GraphsImplementations.ipynb)**<br>\n",
    "13. **[DAG Topological Sort](./DAG-TopologicalSort.ipynb)**<br>\n",
    "14. **[Graphs Shortest-Paths Problems](./GraphsShortestPaths.ipynb)**<br>\n",
    "15. **[Minimum Spanning Trees & Prim's Algorithm](./SpanningTreesPrims.ipynb)**<br>\n",
    "16. **[General Trees & Union/Find Parent Pointer Trees](./GeneralTreesUnionFind.ipynb)**<br>\n",
    "17. **[MST Kruskal's Algorithm](./MSTKruskals.ipynb)**<br>\n",
    "18. **[All-Pairs Shortest Paths](./AllPairsSP-Floyd.ipynb)**<br>\n",
    "19. **[Hashing](./Hashing.ipynb)**<br>"
   ]
  },
  {
   "cell_type": "code",
   "execution_count": null,
   "metadata": {},
   "outputs": [],
   "source": []
  }
 ],
 "metadata": {
  "kernelspec": {
   "display_name": "C++14",
   "language": "C++14",
   "name": "xcpp14"
  },
  "language_info": {
   "codemirror_mode": "text/x-c++src",
   "file_extension": ".cpp",
   "mimetype": "text/x-c++src",
   "name": "c++",
   "version": "14"
  }
 },
 "nbformat": 4,
 "nbformat_minor": 4
}
