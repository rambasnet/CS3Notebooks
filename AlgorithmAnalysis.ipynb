{
 "cells": [
  {
   "cell_type": "markdown",
   "metadata": {
    "solution": "shown"
   },
   "source": [
    "# Algorithm Analysis\n",
    "https://opendsa-server.cs.vt.edu/ODSA/Books/CS3/html/AnalPrelim.html#id1\n",
    "\n",
    "## Table of Contents\n",
    "**[Problems, Algorithms, and Programs](#problems)** <br>\n",
    "**[Comparing Algorithms](#comparing)** <br>\n",
    "**[Growth Rates](#growthrates)** <br>\n",
    "**[Best, Worst, and Average Cases](#cases)** <br>\n",
    "**[Which one to study?](#whichone)** <br>\n",
    "**[Asymptotic Analysis](#asymptotic)**<br>\n",
    "**[Big-Oh](#bigo\")**<br>\n",
    "**[Asymptotic Simplifying Rules](#rules)**<br>\n",
    "**[Big-Omega](#bigomega)**<br>\n",
    "**[Big-Theta](#bigtheta)**<br>\n",
    "**[Analyzing Algorithms Examples](#examples)**<br>"
   ]
  },
  {
   "cell_type": "markdown",
   "metadata": {},
   "source": [
    "## include headers required for this notebook"
   ]
  },
  {
   "cell_type": "code",
   "execution_count": 1,
   "metadata": {},
   "outputs": [],
   "source": [
    "// include headers for this notebook\n",
    "#include <iostream>\n",
    "#include <vector>\n",
    "\n",
    "using namespace std;"
   ]
  },
  {
   "cell_type": "markdown",
   "metadata": {},
   "source": [
    "<a id=\"problems\"></a>"
   ]
  },
  {
   "cell_type": "markdown",
   "metadata": {},
   "source": [
    "## Problems, Algorithms and Programs\n",
    "- programmers commonly deal with problems, algorithms, and computer programs"
   ]
  },
  {
   "cell_type": "markdown",
   "metadata": {},
   "source": [
    "### Problems\n",
    "- problem is a task to be performed\n",
    "- it is best thought in terms of inputs and matching outputs\n",
    "- problem definition should include constraints on the resources that may be consumed by any acceptable solution\n",
    "    - E.g., any computer program may use only the main memory and and disk space available, and it must run in \"reasonable\" amount of time\n",
    "    \n",
    "### Algorithms\n",
    "- is a method or a process followed to solve a problem\n",
    "- if the problem is viewed as a function, then an algorithm is an implementation for the function that transforms an input to the corresponding output\n",
    "- for sorting problem, there are over a dozen commonly known algorithms\n",
    "    - algorithm A might be more efficient than algorithm B for a specific variation of the problem, or a specific class of inputs to the problem\n",
    "- properties of algorithm:\n",
    "    1. must be correct\n",
    "    2. is composed of a series of concrete steps like a \"recipe\"\n",
    "    3. there is no ambiguity as to which step will be performed next\n",
    "    4. must be composed of a finite number of steps\n",
    "    5. must terminate (may not go into infinite loop)\n",
    "    \n",
    "### Programs\n",
    "- an instance or concrete representation of an algorithm in some programming language\n",
    "- some programs do terminate some don't (e.g., Operating systems)"
   ]
  },
  {
   "cell_type": "markdown",
   "metadata": {},
   "source": [
    "<a id=\"comparing\"></a>"
   ]
  },
  {
   "cell_type": "markdown",
   "metadata": {
    "solution": "hidden",
    "solution2": "shown",
    "solution2_first": true,
    "solution_first": true
   },
   "source": [
    "### Exercise 1 - Kahoot.it\n",
    "https://play.kahoot.it/v2/intro?quizId=6ee6672a-7f92-4e2b-97cd-26023825d4f5\n",
    "- Just go to: https://kahoot.it/ on your computer and enter the pin you see on the screen\n",
    "- You can use Kahoot.it app as well"
   ]
  },
  {
   "cell_type": "markdown",
   "metadata": {},
   "source": [
    "## Comparing Algorithms"
   ]
  },
  {
   "cell_type": "markdown",
   "metadata": {},
   "source": [
    "- how do you compare two algorithms for solving the same problem in terms of efficiency?\n",
    "    - simply implementing all algorithms and testing on some data is not satisfactory as the technique may be prone to many problems, e.g.:\n",
    "        1. effort wasted in implmenting two or more algorithms when you want to keep and use one\n",
    "        2. programmer's knowledge (one may be better written than the other)\n",
    "        3. language used (one my be inherently faster than the other, e.g. C/C++ many times faster than Python, JavaScript)\n",
    "        4. choice of empirical test cases (sample test data used)\n",
    "        5. computer resource/budget used (even better of the two alogrithms does not fall within your resource budget)\n",
    "        \n",
    "- **Asymptotic analysis** is the way!\n",
    "    - measures the efficiency of an algorithm, or its implementation as a program, as the input size becomes large\n",
    "- critical resource for a program is most often its running time\n",
    "    - however, one must be concerned with other factors such as the space required to run the program (both main memory and disk space)\n",
    "- one must analyze the **time** required for an *algorithm* and the **space** required for a *data structure*"
   ]
  },
  {
   "cell_type": "markdown",
   "metadata": {},
   "source": [
    "### Basic Operations and Input Size\n",
    "- when estimating an algorithm, one must consider the number of *basic operations* required by the algorithm to process an input of a certain size\n",
    "    - basic operations are problem and algorithm dependent\n",
    "    - size is often the number of inputs processed\n",
    "    - e.g., while searching or sorting, the size of problem is typically measured by the number of records to shift through"
   ]
  },
  {
   "cell_type": "markdown",
   "metadata": {},
   "source": [
    "### Example 1 - find the index of largest value\n",
    "- Consider a simple algorithm to solve the problem of finding \n",
    "the index of the largest value in an array of $n$ integers\n",
    "- the algorithm looks at each integer in turn, \n",
    "saving the position of the largest value seen so far"
   ]
  },
  {
   "cell_type": "code",
   "execution_count": 2,
   "metadata": {},
   "outputs": [],
   "source": [
    "/*\n",
    "Example 1\n",
    "*/\n",
    "size_t largestIndex(vector<int> &v) {\n",
    "    int currLarge = 0; // position of largest element seen\n",
    "    for(int i=1; i<v.size(); i++) { // for each element\n",
    "        if (v[currLarge] < v[i]) // if v[i] is larger **main operation**\n",
    "            currLarge = i; // remember its position\n",
    "    }\n",
    "    return currLarge; // return largest position\n",
    "}"
   ]
  },
  {
   "cell_type": "code",
   "execution_count": 3,
   "metadata": {},
   "outputs": [],
   "source": [
    "vector<int> nums = {10, 20, 30, 4, 50, 6, 70, 8, 90, 10};"
   ]
  },
  {
   "cell_type": "code",
   "execution_count": 4,
   "metadata": {},
   "outputs": [
    {
     "name": "stdout",
     "output_type": "stream",
     "text": [
      "index of largest num = 8\n",
      "largest number = 90\n"
     ]
    }
   ],
   "source": [
    "size_t li = largestIndex(nums);\n",
    "cout << \"index of largest num = \" << li << endl;\n",
    "cout << \"largest number = \" << nums[li] << endl;"
   ]
  },
  {
   "cell_type": "code",
   "execution_count": 5,
   "metadata": {},
   "outputs": [],
   "source": [
    "#include <cassert>\n",
    "assert(largestIndex(nums) == 8);\n",
    "assert(nums[largestIndex(nums)] == 90);"
   ]
  },
  {
   "cell_type": "markdown",
   "metadata": {},
   "source": [
    "### How long does it take to run largestIndex function? What does the running time depend on?\n",
    "\n",
    "- we often express the time $T$ to run the algorithm as a function of $n$, written as **$T(n)$**\n",
    "- if **$c$** is the amount of time required to compare two integers in function largestIndex\n",
    "    - the total time to run **largestIndex()** is therefore approximately **$cn$**\n",
    "\n",
    "- largestIndex function has running time expressed as: **$T(n) = cn$**\n",
    "    - the equation describes the growth rate of the running time of the largest-value sequential search algorithm"
   ]
  },
  {
   "cell_type": "markdown",
   "metadata": {},
   "source": [
    "### Example 2 - copy a data value\n",
    "- copy the first element from nums vector to the first position of nums1 vector"
   ]
  },
  {
   "cell_type": "code",
   "execution_count": 6,
   "metadata": {},
   "outputs": [
    {
     "data": {
      "text/plain": [
       "10"
      ]
     },
     "execution_count": 6,
     "metadata": {},
     "output_type": "execute_result"
    }
   ],
   "source": [
    "// Example 2\n",
    "vector<int> nums1(10);\n",
    "nums1[0] = nums[0]; // how long does this take?"
   ]
  },
  {
   "cell_type": "markdown",
   "metadata": {},
   "source": [
    "### How long does it take to copy one element from a vector to another vector?\n",
    "- if **$c1$** is the amount of time necessary to copy an integer, the time to copy the value from the first position of the vector is always **$c1$** no matter how big the vector is\n",
    "- the equation for this copy algorithm is: **$T(n) = c1$**\n",
    "    - this is called a **constant running time**\n",
    "    - **constant running time** is constant/fixed and doesn't depend on the input size of the problem"
   ]
  },
  {
   "cell_type": "markdown",
   "metadata": {},
   "source": [
    "### Example 3 - nested loop"
   ]
  },
  {
   "cell_type": "code",
   "execution_count": 7,
   "metadata": {},
   "outputs": [],
   "source": [
    "size_t n;\n",
    "int sum;"
   ]
  },
  {
   "cell_type": "code",
   "execution_count": 8,
   "metadata": {},
   "outputs": [],
   "source": [
    "// nested loops\n",
    "sum = 0;\n",
    "n = 100;\n",
    "for (int i=1; i<=n; i++) {\n",
    "    for (int j=1; j<=n; j++) {\n",
    "        sum++; //basic operation - \n",
    "        // how many times does this operation execute?\n",
    "    }\n",
    "}"
   ]
  },
  {
   "cell_type": "markdown",
   "metadata": {},
   "source": [
    "### What is the running time of the above code fragment (nested loops)?\n",
    "- if **$c2$** is the total cost of initialization, comparisons and updates, the total number of increment operations is **$n^2$**\n",
    "- the running time equation for the code snippet is **$T(n) = c2 . n^2$**"
   ]
  },
  {
   "cell_type": "code",
   "execution_count": 9,
   "metadata": {},
   "outputs": [
    {
     "name": "stdout",
     "output_type": "stream",
     "text": [
      "sum = 10000\n"
     ]
    }
   ],
   "source": [
    "cout << \"sum = \" << sum << endl;"
   ]
  },
  {
   "cell_type": "markdown",
   "metadata": {},
   "source": [
    "### Exercise 2 - Kahoot.it\n",
    "- https://play.kahoot.it/v2/lobby?quizId=e3e6937d-4ef9-4471-9f5e-96ff96653275\n",
    "- Just go to: https://kahoot.it/ on your computer and enter the pin you see on the screen\n",
    "- You can use Kahoot.it app as well"
   ]
  },
  {
   "cell_type": "markdown",
   "metadata": {},
   "source": [
    "<a id=\"growthrates\"></a>"
   ]
  },
  {
   "cell_type": "markdown",
   "metadata": {},
   "source": [
    "## Growth Rates of Representative Functions"
   ]
  },
  {
   "cell_type": "markdown",
   "metadata": {},
   "source": [
    "- **growth rate** of an algorithm is the rate at which the cost of the algorithm grows as the size of its input grows\n",
    "- the following figure shows the growth rate of varieties of representative functions\n",
    "- horizontal axis $n$ represents the size of the problem\n",
    "- vertical axis represents the cost (# of operations and/or memory usage) for an agorithm\n",
    "\n",
    "<img src=\"./resources/growthrates.gif\">"
   ]
  },
  {
   "cell_type": "markdown",
   "metadata": {},
   "source": [
    "### growth rates\n",
    "\n",
    "#### constant growth rate\n",
    "- cost/function doesn't grow as $n$ grows\n",
    "    - e.g. copying 1 element of a vector into another vector\n",
    "\n",
    "#### logarithmic growth rate\n",
    "- cost/function grows logarithmically (by $logn$) as $n$ grows\n",
    "    - e.g. binary search\n",
    "\n",
    "#### linear growth rate\n",
    "- $c.n$ (for any positive constant $c$)\n",
    "    - doubing the value of $c$ nearly doubles the running time\n",
    "    - e.g. linear search, finding sum and product of range of values\n",
    "    \n",
    "#### quadratic growth rate\n",
    "- $n^c$ (for some small positive constant $c$)\n",
    "    - $n^2$ - doubly nested loop (e.g., matrix manipulation)\n",
    "    - $n^3$ - triple nested loop (e.g., 3-D graphic computations)\n",
    "    - also called **polynomial time** for $n^k$ for some positive constant\n",
    "    - this class of algorithms is also called \"tractable\", \"feasible\", \"efficient\", or \"fast\"\n",
    "    - class **P** vs **NP** is an important field of computational complexity theory\n",
    "\n",
    "#### exponential growth rate\n",
    "- $2^n$ - because $n$ appears in the exponent\n",
    "    - e.g. Tower of Hanoii puzzle\n",
    "    - Biological (virus and bacterial growth rates), Physics chain reactions\n",
    "\n",
    "#### factorial growth rate\n",
    "- $n!$ - e.g. # of permutations of $n$ items where you're allowed to choose $1-n$ items"
   ]
  },
  {
   "cell_type": "markdown",
   "metadata": {},
   "source": [
    "### memory costs for representative growth rates"
   ]
  },
  {
   "cell_type": "markdown",
   "metadata": {},
   "source": [
    "| $n$ | $log log n$ | $log n$ | $n$ | $n log n$ | $n^2$ | $n^3$ | $2^n$ |\n",
    "| --- | --- | --- | --- | --- | --- | --- | --- |\n",
    "| $16$ | $2$ | $4$ | $2^4$ | $ 4\\times 2^4= 2^6$ | $2^8$ | $2^{12}$ | $2^{16}$ |\n",
    "| $256$ | $3$ | $8$ | $2^8$ | $8\\times 2^8 = 2^{11}$ | $2^{16}$ | $2^{24}$ | $2^{256}$ |\n",
    "| $1024$ |  $\\approx 3.3$ | 10 | $2^{10}$ | $𝟣𝟢 \\times 𝟤^{𝟣𝟢}\\approx 𝟤^{𝟣𝟥}$ | $2^{20}$ | $2^{30}$ | $2^{1024}$ |\n",
    "| $64K$ | $4$ | $16$ | $2^{16}$ | $16 \\times 2^{16} = 2^{20}$ | $2^{32}$ | $2^{48}$ | $2^{64K} $ |\n",
    "| $1M$ | $\\approx 4.3$ | $20$ | $2^{20}$ | $20 \\times 2^{20} \\approx 2^{24}$ | $2^{40}$ | $2^{60}$ | $2^{1M}$ | \n",
    "| $1G$ | $\\approx 4.9$ | $30$ | $2^{30}$ | $30 \\times 2^{30} \\approx 2^{35}$ | $2^{60}$ | $2^{90}$ | $2^{1G}$ |"
   ]
  },
  {
   "cell_type": "markdown",
   "metadata": {},
   "source": [
    "### Comparing Growth Rate Exercise\n",
    "You are given this set of 6 growth functions: $n!$, $2^n$, $2n^2$, $5nlogn$, $20n$, $10n$.\n",
    "\n",
    "For the growth function $20n$ what positive integer that would make this function the most efficient of the six. If there is no integer value for which it is most efficient, say \"none\".\n",
    "Hint: start with $n=1$"
   ]
  },
  {
   "cell_type": "markdown",
   "metadata": {},
   "source": [
    "<a id=\"cases\"></a>"
   ]
  },
  {
   "cell_type": "code",
   "execution_count": 10,
   "metadata": {},
   "outputs": [
    {
     "name": "stdout",
     "output_type": "stream",
     "text": [
      "0\n"
     ]
    }
   ],
   "source": [
    "#include <cmath>\n",
    "cout << log2(1) << endl;"
   ]
  },
  {
   "cell_type": "markdown",
   "metadata": {},
   "source": [
    "### Growth Rates Ordering Exercise\n",
    "Arrange the growth rates of the following functions in ascending order of their growth rates.\n",
    "\n",
    "1. $n^2$\n",
    "- $2logn$\n",
    "- $10n^4$\n",
    "- $nlogn$\n",
    "- $5n$\n"
   ]
  },
  {
   "cell_type": "markdown",
   "metadata": {},
   "source": [
    "## Best, Worst, and Average Cases"
   ]
  },
  {
   "cell_type": "markdown",
   "metadata": {},
   "source": [
    "- some problems do not have best, worst, or average cases as you'd have to account for the whole input data\n",
    "    - e.g., finding sum of integer values stored in a vector\n",
    "    - factorial of $n$ or $n!$\n",
    "    - $3! = 3*2*1 = 6$\n",
    "    - $10! = 10*9*...1 = 3,628,800$\n",
    "- some problems do have best, worst, or average cases based on the input data\n",
    "    - e.g., searching key **$K$** in a given vector\n",
    "        - **Best case:** a single comparison is performed\n",
    "        - **Worst case:** $n$ comparisons are performed\n",
    "        - **Average case:** $\\frac{n+1}{2}$ comparisons are performed\n",
    "        <img src=\"./resources/seqSearchBestWorstAvg.png\">"
   ]
  },
  {
   "cell_type": "markdown",
   "metadata": {},
   "source": [
    "<a id=\"whichone\"><a/>"
   ]
  },
  {
   "cell_type": "markdown",
   "metadata": {},
   "source": [
    "## Which one to study?"
   ]
  },
  {
   "cell_type": "markdown",
   "metadata": {},
   "source": [
    "- when analyzing an algorithm, should we study the best, worst, or average case?\n",
    "- normally, we're not interested in the best case (too optimistic)\n",
    "    - can be useful when the best case has high probability of occurring\n",
    "    - e.g., Shellsort and Quicksort algorithms both can take advantage of the best-case running time of Insertion Sort to become more efficient\n",
    "- worst case analysis has the advantage that you know for certain that the algorithm must perform at least that well\n",
    "    - esp. important for real-time applications, such as for the computers that monitor an air traffic control system\n",
    "- some applications, we wish to aggregate the cost of running the program many times on many different inputs\n",
    "    - often, we prefer to know the average-case running time if possible\n",
    "    - not always possible, e.g., the assumption that the sequential search algorithm on average examines half of the array values is only true if the element with key $K$ is equally likely to appear in any position in the array!\n",
    "- the characteristics of data distribution have a significant effect on search algorithms, such as those based on *hashing* e.g. **map** and **set** and search trees such as the *Binary Search Tree (BST)* \n",
    "\n",
    "**in summary, we prefer to study average case if we know enough about the distribution of our input, if not, we must resort to worst-case analysis**"
   ]
  },
  {
   "cell_type": "markdown",
   "metadata": {},
   "source": [
    "<a id=\"asymptotic\"></a>"
   ]
  },
  {
   "cell_type": "markdown",
   "metadata": {},
   "source": [
    "## Growth Rates and Asymptotic Analysis"
   ]
  },
  {
   "cell_type": "markdown",
   "metadata": {},
   "source": [
    "- the following graph shows the growth rates for six equations\n",
    "- the horizontal axis represents input size\n",
    "- the vertical axis can represent time, space, or any other measure of cost\n",
    "<img src=\"./resources/growthRates.png\">"
   ]
  },
  {
   "cell_type": "markdown",
   "metadata": {},
   "source": [
    "- the following graph shows in detail the lower-left portion of the above graph\n",
    "<img src=\"./resources/growthRatesZoom.png\">\n",
    "\n",
    "### observations from the graphs\n",
    "- looking at $2n^2$, $20n$ and $10n$ curves, the larger constants $10$ and $20$ in linear functions don't matter much\n",
    "- generally constants simply shifts *where* the two curves cross, not *whether* the two curves cross\n",
    "- the time curves for two algorithms with different growth rates still cross, regardless of their running-time equation constants\n",
    "- for this reason, we usually ignore the constants when we want an estimate of the growth rate for the running time or other requirements of an algorithm\n",
    "- simplifies the analysis and keeps us thinking about the most important aspect: the growth rate (asymptotic algorithm analysis)\n",
    "\n",
    "### Asymptotic Analysis - Pros and Cons\n",
    "- refers to the study of an algorithm as the input size \"gets big\" or grows to $\\infty$\n",
    "- helps us focus on the most important aspect: growth rates of the functions\n",
    "- **asymptotic algorithm analysis** is a form of \"back of the envelope\" **estimation** for algorithm resource consumption\n",
    "- ignoring constants may not be reasonable when comparing algorithms meant to run on small values of $n$\n",
    "    - provides a simplified model of the running time or other resource needs of an algorithm\n",
    "- makes reasonable assumption that the two algorithms under comparison do rarely differ by a factor of 1000 or more\n",
    "- be aware of the rare situations where the constant is more important\n",
    "- does not give an actual cost of an algorithm\n",
    "    - two algorithms may have similar growth rates but the actual running time may be different"
   ]
  },
  {
   "cell_type": "markdown",
   "metadata": {},
   "source": [
    "<a id=\"bigo\"></a>"
   ]
  },
  {
   "cell_type": "markdown",
   "metadata": {},
   "source": [
    "## Upper Bound - Big-Oh O\n",
    "- several terms are used to describe the running-time equation for an algorithm\n",
    "- upper bound indicates the upper or highest growth rate that the algorithm can have\n",
    "- use big-Oh notation to represent upper bounds\n",
    "    - e.g., if $n^2$ grows as fast as $T(n)$ (the running time of our algorithm) for the worst-case input, we would say the algorithm is \"in $O(n^2)$ in the worst case\"\n",
    "- precise definition of upper bound:\n",
    "    - for $T(n)$ a non-negatively valued function, $T(n)$ is in set $O(f(n))$ if there exist two positive constants $c$ and $n_0$ such that $T(n) \\leq c\\times f(n)$ for all $n > n_0$\n",
    "    - $n_0$ is the smallest value of $n$ for which the claim of an upper bound holds true\n",
    "    \n",
    "\n",
    "#### Example 1\n",
    "- for a particular algorithm, $T(n) = c_1\\times n^2 + c_2 \\times n$ in the average case where $c_1, c_2 > 0$. Then,\n",
    "    - $c_1 \\times n^2 + c_2 \\times$ n \n",
    "    - $\\leq c_1\\times n^2 + c_2\\times n^2$ \n",
    "    - $\\leq (c_1 + c_2)n^2$ for all $n>1$\n",
    "    - so, $T(n) \\leq c \\times n^2$ for $c = c_1 + c_2$, and $n_0 = 1$\n",
    "    - therefore, $T(n)$ is in $O(n^2)$ by the definition of upper bounds\n",
    "\n",
    "#### Example 2\n",
    "- copying a value from the position of an array into a variable takes constant time regardless of the size of the array\n",
    "- $T(n) = c$ (for the best, worst, and average cases)\n",
    "    - $T(n)$ is in $O(c)$ or $O(1)$\n",
    "    \n",
    "#### Common Misunderstandings\n",
    "- \"What is the growth rate of this algorithm?\"\n",
    "    - Ask, when? Best case? Average case? Worst case?\n",
    "    - \"this algorithm has an upper bound to its growth rate of $n^2$ in the worst case\"\n",
    "- since, sequential search is in $O(n)$, it is also true to say that sequential search is in $O(n^2)$\n",
    "    - we define the running time of an algorithm with the tightest (lowest) possible upper bound\n",
    "    - $O(n)$ is in $O(n^2)$ but not vice versa\n",
    "- confusing worst case with upper bound\n",
    "    - upper bound refers to growth rate\n",
    "- worst case refers to the worst input from among the choices for possible inputs of given size"
   ]
  },
  {
   "cell_type": "markdown",
   "metadata": {},
   "source": [
    "<a id=\"rules\"></a>"
   ]
  },
  {
   "cell_type": "markdown",
   "metadata": {},
   "source": [
    "### Simplifying Rules\n",
    "\n",
    "1. if $f(n)$ is in $O(g(n))$ and $g(n)$ is in $O(h(n))$, then $f(n)$ is in $O(h(n))$\n",
    "    - if some function $g(n)$ is an upper bound for your cost function, then any upper bound for $g(n)$ is also an upper bound for your cost function\n",
    "\n",
    "2. if $f(n)$ is in $O(k\\times g(n))$ for any constant $k>0$, then $f(n)$ is in $O(g(n))$\n",
    "    - you can ignore ignore any multiplicative constants in your equations when using big-Oh notation\n",
    "3. if $f_1(n)$ is in $O(g_1(n))$ and $f_2(n)$ is in $O(g_2(n))$, then $f_1(n)+f_2(n)$ is in $O(max(g_1(n),g_2(n)))$\n",
    "    - given two parts of program run in sequence (whether two statements or two sections of code), you need to consider only the more expensive part\n",
    "4. if $f_1(n)$ is in $O(g_1(n))$ and $f_2(n)$ is in $O(g_2(n))$, then $f_1(n) \\times f_2(n)$ is in $O(g_1(n) \\times g_2(n))$\n",
    "    - used to analyze simple loops in programs\n",
    "    - if some action is repeated some number of times, and each repetition has the same cost, then the total cost is the cost of the action multiplied by the number of times that the action takes place "
   ]
  },
  {
   "cell_type": "markdown",
   "metadata": {
    "solution": "hidden",
    "solution2": "hidden",
    "solution2_first": true
   },
   "source": [
    "### Exercise\n",
    "Which of the following is the best upper bound for a growth rate of $f(n) = 5n+3$?\n",
    "1. $O(n)$\n",
    "2. $O(n log n)$\n",
    "3. $O(log n)$\n",
    "4. $O(n^2)$\n",
    "5. $O(1)$"
   ]
  },
  {
   "cell_type": "markdown",
   "metadata": {},
   "source": [
    "<a id=\"bigomega\"></a>"
   ]
  },
  {
   "cell_type": "markdown",
   "metadata": {},
   "source": [
    "## Lower Bound - Big-Omega $\\Omega$\n",
    "- for $T(n)$, a non-negatively valued function, $T(n)$ is in the set $\\Omega(g(n))$ if there exist two positive constants $c$ and $n_0$ such that $T(n) \\geq c \\times g(n)$ for all $n > n_0$\n",
    "    - for all data sets big enough (i.e., $n \\geq n_0$), the algorithm always requires more than $cg(n)$ steps\n",
    "    - measures the lower bound\n",
    "    \n",
    "### Big-Omega Example\n",
    "- $T(n) = c_1n^2 + c_2n$\n",
    "    - $c_1n^2 + c_2n \\geq c_1n^2$ for all $n > 1$\n",
    "    - $T(n) \\geq c_1n^2$ for $c = c_1$ and $n_0 = 1$\n",
    "    - therefore, $T(n)$ is in $\\Omega(n^2)$ by the definition\n",
    "    - we want the greatest lower bound"
   ]
  },
  {
   "cell_type": "markdown",
   "metadata": {},
   "source": [
    "<a id=\"bigtheta\"></a>"
   ]
  },
  {
   "cell_type": "markdown",
   "metadata": {},
   "source": [
    "## Tight Bound - Big-Theta $\\Theta$\n",
    "- essentially, when $O$ (big-Oh) and $\\Omega$ (big-Omega) coincide, we indicate this by using $\\Theta$ (big-Theta) notation\n",
    "- if an algorithm is of $\\Theta(g(n))$, it means that the running time of the algorithm, as $n$ (input size) gets larger, is proportional to $g(n)$\n",
    "    - an algorithm is said to be in $\\Theta(g(n))$ if it is in $O(g(n))$ and it is in $\\Omega(g(n))$\n"
   ]
  },
  {
   "cell_type": "markdown",
   "metadata": {},
   "source": [
    "<a id=\"examples\"></a>"
   ]
  },
  {
   "cell_type": "markdown",
   "metadata": {},
   "source": [
    "## Analyzing Algorithms Examples"
   ]
  },
  {
   "cell_type": "markdown",
   "metadata": {},
   "source": [
    "### Example 1\n",
    "### Problem: find sum of first $n$ positive numbers\n",
    "- see kattis problem: https://open.kattis.com/problems/sumkindofproblem\n",
    "\n",
    "#### Which of the following three algorithms is the most efficient?\n",
    "\n",
    "#### Algorithm 1:\n",
    "- initialize $sum \\leftarrow 0$\n",
    "- for each $i \\in \\{1..n\\}$\n",
    "    - increment sum by $i$ "
   ]
  },
  {
   "cell_type": "code",
   "execution_count": 11,
   "metadata": {},
   "outputs": [
    {
     "name": "stdout",
     "output_type": "stream",
     "text": [
      "sum = 5050\n"
     ]
    },
    {
     "data": {
      "text/plain": [
       "@0x10b671ec0"
      ]
     },
     "execution_count": 11,
     "metadata": {},
     "output_type": "execute_result"
    }
   ],
   "source": [
    "// algorithm 1\n",
    "sum = 0; // θ(1)\n",
    "n = 100; // θ(1)\n",
    "for (int i = 1; i <=n; i++ ) // θ(1 + c1.n + c2.n)\n",
    "    sum += i; // θ(c3.n)\n",
    "cout << \"sum = \" << sum << endl;\n",
    "// time = θ(1) + θ(1) + θ(1 + c1.n + c2.n) + θ(c3.n)\n",
    "// = θ(n)\n",
    "// using simplifying rules 2, 3 and 4; algorithm 1 takes Theta(n)"
   ]
  },
  {
   "cell_type": "markdown",
   "metadata": {},
   "source": [
    "#### Algorithm 2\n",
    "- use equation $sum = n\\frac{(n+1)} 2$"
   ]
  },
  {
   "cell_type": "code",
   "execution_count": 12,
   "metadata": {},
   "outputs": [
    {
     "name": "stdout",
     "output_type": "stream",
     "text": [
      "sum = 5050\n"
     ]
    },
    {
     "data": {
      "text/plain": [
       "@0x10b671ec0"
      ]
     },
     "execution_count": 12,
     "metadata": {},
     "output_type": "execute_result"
    }
   ],
   "source": [
    "// algorithm 2\n",
    "sum = 0;\n",
    "n = 100; \n",
    "sum = n*(n+1)/2; // θ(1) - one addition, one multiplication and one division\n",
    "cout << \"sum = \" << sum << endl;\n",
    "// algorithm 2 clearly takes constant time Theta(1)"
   ]
  },
  {
   "cell_type": "markdown",
   "metadata": {},
   "source": [
    "#### Algorithm 3\n",
    "- initialize $sum \\leftarrow 0$\n",
    "- for each $i \\in \\{1..n\\}$\n",
    "    - for each $j \\in \\{1 .. i\\}$\n",
    "        - increment sum by 1"
   ]
  },
  {
   "cell_type": "code",
   "execution_count": 13,
   "metadata": {},
   "outputs": [
    {
     "name": "stdout",
     "output_type": "stream",
     "text": [
      "sum = 5050\n"
     ]
    },
    {
     "data": {
      "text/plain": [
       "@0x10b671ec0"
      ]
     },
     "execution_count": 13,
     "metadata": {},
     "output_type": "execute_result"
    }
   ],
   "source": [
    "// algorithm 3\n",
    "sum = 0;\n",
    "n = 100;\n",
    "for (int j=1; j<=n; j++)     // First for loop\n",
    "   for (int i=1; i<=j; i++)  // nested loop\n",
    "      sum++; // c3.(n.(n+1)/2)\n",
    "cout << \"sum = \" << sum << endl;\n",
    "// algorithm 3 takes Theta(n^2)"
   ]
  },
  {
   "cell_type": "markdown",
   "metadata": {},
   "source": [
    "### Example 2 - $logn$\n",
    "- what is the running time complexity of the following code snippet?"
   ]
  },
  {
   "cell_type": "code",
   "execution_count": 14,
   "metadata": {},
   "outputs": [
    {
     "name": "stdout",
     "output_type": "stream",
     "text": [
      "sum = 31\n"
     ]
    }
   ],
   "source": [
    "// example 2\n",
    "sum = 0;\n",
    "n = 4294967295; // 2^32-1\n",
    "for (int k=1; k<=n; k<<=1)\n",
    "    sum++; // Do log n times  Note: k=k<<1 == k*=2\n",
    "cout << \"sum = \" << sum << endl;"
   ]
  },
  {
   "cell_type": "markdown",
   "metadata": {},
   "source": [
    "#### the growth rate of the above code snippet/algorithm $T(n)$ is $\\Theta(logn)$"
   ]
  },
  {
   "cell_type": "markdown",
   "metadata": {},
   "source": [
    "### Example 3 - $n^2$\n",
    "- sum++ is executed $\\sum_{i=1}^{n} i= \\frac {n(n+1)} 2$ times which is in $\\Theta(n^2)$\n",
    "- second for loop is executed $n$ times which is in $\\Theta(n)$\n",
    "- $T(n)$ = $\\Theta(c_1 + c_2 + c_3n + c_4n^2 + c_5n)$\n",
    "    - which is in $\\Theta(n^2)$; using simplifying rule 3"
   ]
  },
  {
   "cell_type": "code",
   "execution_count": 15,
   "metadata": {},
   "outputs": [
    {
     "name": "stdout",
     "output_type": "stream",
     "text": [
      "sum = 5050\n"
     ]
    }
   ],
   "source": [
    "// example 3\n",
    "sum = 0; //c1\n",
    "n = 100; //c2\n",
    "vector<int> A(n, 0); //c3.n\n",
    "// First for loop\n",
    "for (int j=1; j<=n; j++)\n",
    "   for (int i=1; i<=j; i++)  // is a nested loop\n",
    "      sum++; // c4.(n.(n+1)/2)\n",
    "\n",
    "// Second for loop\n",
    "for (int k=0; k<n; k++)\n",
    "   A[k] = k; // c5.n\n",
    "\n",
    "cout << \"sum = \" << sum << endl;"
   ]
  },
  {
   "cell_type": "markdown",
   "metadata": {},
   "source": [
    "### Example 4 - $n^2$\n",
    "- in the following example doubly nested loop, sum++ executes $n^2$ times and the overall cost of the code snippet is $\\Theta(n^2)$"
   ]
  },
  {
   "cell_type": "code",
   "execution_count": 16,
   "metadata": {},
   "outputs": [
    {
     "name": "stdout",
     "output_type": "stream",
     "text": [
      "sum = 10000\n"
     ]
    }
   ],
   "source": [
    "// example 4\n",
    "sum = 0;\n",
    "n = 100;\n",
    "for (int i=1; i<=n; i++)     // First double loop\n",
    "   for (int j=1; j<=n; j++)  //   do n times\n",
    "      sum++;\n",
    "cout << \"sum = \" << sum << endl;"
   ]
  },
  {
   "cell_type": "markdown",
   "metadata": {},
   "source": [
    "### Example 5 - $n^2$\n",
    "- in the doubly nested loop, sum++ executes approximately $\\frac 1 2 n^2$ times\n",
    "- however, the overall cost of the code snippet is still $\\Theta(n^2)$, though the example 5 requires about half the time of the example 4"
   ]
  },
  {
   "cell_type": "code",
   "execution_count": 17,
   "metadata": {},
   "outputs": [
    {
     "name": "stdout",
     "output_type": "stream",
     "text": [
      "sum = 5050\n"
     ]
    }
   ],
   "source": [
    "// example 5\n",
    "sum = 0;\n",
    "n = 100;\n",
    "for (int i=1; i<=n; i++)     // Second double loop\n",
    "   for (int j=1; j<=i; j++)  //   do i times\n",
    "      sum++;\n",
    "cout << \"sum = \" << sum << endl;"
   ]
  },
  {
   "cell_type": "markdown",
   "metadata": {},
   "source": [
    "### Example 6 - Nested loops with $nlogn$ and $n$\n",
    "- not all doubly nested for loops are in $\\Theta(n^2)$\n",
    "- let's assume that $n$ is power of $2$\n",
    "- in first nested loop (example 6.1), the outer loop executes $logn+1$ times because on each iteration $k$ is doubled until it reaches $n$\n",
    "    - the inner loop executes $n$ times, the cost can be expressed as: $\\sum_{i=0}^{log n} n = n log n$\n",
    "    - so, the cost for this doubly nested loop is $\\Theta(nlogn)$"
   ]
  },
  {
   "cell_type": "code",
   "execution_count": 18,
   "metadata": {},
   "outputs": [
    {
     "name": "stdout",
     "output_type": "stream",
     "text": [
      "sum = 11264\n"
     ]
    }
   ],
   "source": [
    "// example 6.1\n",
    "sum = 0;\n",
    "n = 1024;\n",
    "for (int k=1; k<=n; k=k<<1)    // Do log n times;  k *= 2\n",
    "   for (int j=1; j<=n; j++)  // Do n times\n",
    "      sum++;\n",
    "cout << \"sum = \" << sum << endl;"
   ]
  },
  {
   "cell_type": "markdown",
   "metadata": {},
   "source": [
    "- in Example 6.2, the outer loop executes $logn+1$ times because on each iteration $k$ is halved until it reaches $1$\n",
    "    - the inner loop has cost $k$ which is halved each time\n",
    "    - so, the cost for this doubly nested loop can be expressed as: $\\sum_{i=0}^{logn} 2^i = \\Theta(n)$"
   ]
  },
  {
   "cell_type": "code",
   "execution_count": 19,
   "metadata": {},
   "outputs": [
    {
     "name": "stdout",
     "output_type": "stream",
     "text": [
      "sum = 839999992\n"
     ]
    },
    {
     "data": {
      "text/plain": [
       "@0x10b671ec0"
      ]
     },
     "execution_count": 19,
     "metadata": {},
     "output_type": "execute_result"
    }
   ],
   "source": [
    "// example 6.2\n",
    "sum = 0;\n",
    "n = 420000000; // 420M\n",
    "for (int k=n; k>=1; k=k>>1)    // Do log n times; k /= 2\n",
    "   for (int j=k; j>=1; j--)  // Do k + k/2 + k/4 + ... 1 times\n",
    "       sum++;\n",
    "cout << \"sum = \" << sum << endl; // =~840M"
   ]
  },
  {
   "cell_type": "markdown",
   "metadata": {},
   "source": [
    "### Analyzing Cost of Other Control Structures\n",
    "- **while loop:** analyze like a for loop\n",
    "- **if statement:** take greater complexity of then/else clauses\n",
    "- **switch statement:** take complexity of most expensive case\n",
    "- **subroutine call:** complexity of the subroutine"
   ]
  },
  {
   "cell_type": "markdown",
   "metadata": {},
   "source": [
    "### Time Complexity of Some Operations, Algorithms and Solutions\n",
    "1. cost of I/O: $\\Omega(n)$\n",
    "- cost of sequential search: $O(n)$\n",
    "- cost of binary search on sorted range: $O(logn)$\n",
    "- Bubble and Insertion sort: $O(n^2)$\n",
    "- better sorts (Quicksort, Mergesort, Heapsort, etc.): $O(nlogn)$\n",
    "    - it's proven that sorting is in $\\Omega(nlogn)$\n",
    "- Tower of Hanoii recursive solution: $O(2^n)$\n",
    "- Finding a factorial of an integer ($n!$): $O(n)$ \n",
    "- Recursive solution to find fibonacci sequence: $(~1.6180)^n$\n",
    "    - 1.6180... is called golden ratio\n",
    "    - in $O(2^n)$\n",
    "    - https://www.mathsisfun.com/numbers/golden-ratio.html"
   ]
  },
  {
   "cell_type": "markdown",
   "metadata": {},
   "source": [
    "### Space/Time Trade-off Principle\n",
    "- One can often reduce time if one is willing to sacrifice space, or vice versa\n",
    "    - encoding or packing information\n",
    "        - Boolean flags\n",
    "    - Table lookup (memoization)\n",
    "        - finding factorials (repeatitively and/or recursively!)"
   ]
  },
  {
   "cell_type": "markdown",
   "metadata": {},
   "source": [
    "## Kahoot.it\n",
    "- go to kahoot.it and enter the game code displayed on the screen\n",
    "- Asymptotic Analysis: https://play.kahoot.it/v2/lobby?quizId=7af8c130-8909-4a37-97a3-a0d5e0fc5017"
   ]
  },
  {
   "cell_type": "code",
   "execution_count": null,
   "metadata": {},
   "outputs": [],
   "source": []
  }
 ],
 "metadata": {
  "kernelspec": {
   "display_name": "C++14",
   "language": "C++14",
   "name": "xcpp14"
  },
  "language_info": {
   "codemirror_mode": "text/x-c++src",
   "file_extension": ".cpp",
   "mimetype": "text/x-c++src",
   "name": "c++",
   "version": "14"
  }
 },
 "nbformat": 4,
 "nbformat_minor": 2
}
