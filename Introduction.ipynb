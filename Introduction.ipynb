{
 "cells": [
  {
   "cell_type": "markdown",
   "metadata": {},
   "source": [
    "## Introduction\n",
    "https://opendsa-server.cs.vt.edu/ODSA/Books/CS3/html/IntroDSA.html"
   ]
  },
  {
   "cell_type": "markdown",
   "metadata": {},
   "source": [
    "- Some problems to think about...\n",
    "    1. What is the fastest route from Los Angeles, CA to New York City, NY? \n",
    "        - how long does it take to get there?\n",
    "    2. What is the most reliable source on the Internet to learn about data structures and algorithms?\n",
    "    3. Who was the most influential celebrity/politician of last year?\n",
    "    4. What is an average salary of a software engineer?\n",
    "    5. What is the cheapest way to travel from Grand Junction, CO, to Kathmandu, Nepal?\n",
    "    6. How does Apple's Siri know what appointment you have next when you ask it? "
   ]
  },
  {
   "cell_type": "markdown",
   "metadata": {
    "heading_collapsed": true
   },
   "source": [
    "## Computer Science (CS) fundamentals"
   ]
  },
  {
   "cell_type": "markdown",
   "metadata": {
    "hidden": true
   },
   "source": [
    "- the core of CS is representing data so that it can be efficiently stored and retrieved\n",
    "    - many computer programs sole functionality is to do just that, but as fast as possible. e.g., search engines like, Google, Bing, etc.\n",
    "- some programs may do heavy mathematical computation as fast as possible, e.g., wolframalpha computational intelligence (https://www.wolframalpha.com)\n",
    "    - find factorial(10000) or 10000!\n",
    "    \n",
    "**the study of data structures and the alogrithms that manipulate them to solve a given problem in feasible time and resource is the heart of compuer science**"
   ]
  },
  {
   "cell_type": "markdown",
   "metadata": {},
   "source": [
    "## Goals of Data Structure (DS) and Algorithm courses"
   ]
  },
  {
   "cell_type": "markdown",
   "metadata": {},
   "source": [
    "1. present a collection of commonly used data structures and algorithms, programmer's basic \"toolkit\"\n",
    "    - for many problems these toolkit out-of-the box will provide efficient solutions\n",
    "    - \"toolkit\" forms the basis/foundations to build more advanced data structures\n",
    "2. introduce the idea of trade-offs between the costs and benefits associated with every data structure or algorithm, e.g., trade-offs between memory and time\n",
    "3. learn to measure the effectiveness of a data structure or algorithm so you can pick the right ones for the job\n",
    "    - also allows you to quickly judge the merits of new data structures or algorithms that you or others might invent"
   ]
  },
  {
   "cell_type": "markdown",
   "metadata": {},
   "source": [
    "## Solving problems"
   ]
  },
  {
   "cell_type": "markdown",
   "metadata": {},
   "source": [
    " - the primary job of computer scientists is to solve problems!\n",
    " - there are often too many approaches to solve a problem\n",
    " - at the heart of computer program designs are two (sometimes conflicting) goals:\n",
    "     1. to design an algorithm that is easy to understand, code, and debug\n",
    "     2. to design an algorithm that makes efficient use of the computer's resources\n",
    "         - \"elegant\" solutions meet both these goals!\n",
    "         - software engineering focuses on goal 1, though we emphasize it from CS1!\n",
    "         - CS2 and CS3 usually focuses on goal 2."
   ]
  },
  {
   "cell_type": "markdown",
   "metadata": {},
   "source": [
    "## Why faster DS and algorithms when we've faster computers?"
   ]
  },
  {
   "cell_type": "markdown",
   "metadata": {},
   "source": [
    "- according to Moore's law https://en.wikipedia.org/wiki/Moore%27s_law, no. of transistors in computer's circuit board doubles every two years.\n",
    "- so, if processor speed and memory size continue to improve, won't today's hard problem be solved by tomorrow's hardware?\n",
    "- additional computing power enables us to tackle more complex problems, such as sophisticated user interfaces such as in mobile devices, bigger problem sizes (big data), or new problems previously deemed computationally infeasible\n",
    "- resources are always limited...\n",
    "- efficient solution solves the problem within the required *resource constraints*.\n",
    "    - may require fewer resources than known alternatives, regardless of whether it meets any particular requirements\n",
    "- **cost** of a solution is the amount of resources that the solution consumes\n",
    "    - measured typically in terms of one key resource such as time implying it meets all other resource constraints \n",
    "    - e.g., fastest solutions on open.kattis.com problems meeting memory requirements: https://open.kattis.com/problems/cd/statistics"
   ]
  },
  {
   "cell_type": "markdown",
   "metadata": {},
   "source": [
    "## Selecting a Data Structure"
   ]
  },
  {
   "cell_type": "markdown",
   "metadata": {},
   "source": [
    "1. analyze your problem to determine the **basic operations** e.g., inserting data item into the data structure, deleting, finding a specified data item\n",
    "- quantify the resource constraints for each operation\n",
    "- select the data structure that best meets these requirements\n",
    "\n",
    "### Some questions to think about to determine the importance of operations\n",
    "1. is the application static or dynamic\n",
    "    - in static applications, data is loaded at the beginning and new data are not inserted\n",
    "    - in dynamic applications, new data items are inserted and may be inserted in any locations\n",
    "- can data items be deleted? this may make the implementation more complicated\n",
    "- how are the data items processed? in some well-defined order, random access?"
   ]
  },
  {
   "cell_type": "markdown",
   "metadata": {},
   "source": [
    "## Exercises\n",
    "1. Which of these is NOT a definition for efficiency in a computer program?\n",
    "    - it solves the problem within the required resource constraints\n",
    "    - it requires fewer resources than known alternatives\n",
    "    - it runs in linear time"
   ]
  },
  {
   "cell_type": "code",
   "execution_count": null,
   "metadata": {},
   "outputs": [],
   "source": []
  }
 ],
 "metadata": {
  "kernelspec": {
   "display_name": "C++14",
   "language": "C++14",
   "name": "xcpp14"
  },
  "language_info": {
   "codemirror_mode": "text/x-c++src",
   "file_extension": ".cpp",
   "mimetype": "text/x-c++src",
   "name": "c++",
   "version": "14"
  }
 },
 "nbformat": 4,
 "nbformat_minor": 2
}
